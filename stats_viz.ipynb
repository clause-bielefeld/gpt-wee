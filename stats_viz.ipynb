{
 "cells": [
  {
   "cell_type": "markdown",
   "id": "f6eb2ad9",
   "metadata": {},
   "source": [
    "# Statistics and visualizations for GPT-Wee"
   ]
  },
  {
   "cell_type": "code",
   "execution_count": null,
   "id": "c48e9343",
   "metadata": {},
   "outputs": [],
   "source": [
    "import pandas as pd\n",
    "import seaborn as sns\n",
    "import matplotlib.pyplot as plt"
   ]
  },
  {
   "cell_type": "code",
   "execution_count": null,
   "id": "9480e413",
   "metadata": {},
   "outputs": [],
   "source": [
    "df = pd.read_csv(\"/path/to/stats/training-stats-df.csv\")"
   ]
  },
  {
   "cell_type": "code",
   "execution_count": null,
   "id": "d19d3de1",
   "metadata": {},
   "outputs": [],
   "source": [
    "df"
   ]
  },
  {
   "cell_type": "code",
   "execution_count": null,
   "id": "98da8cad",
   "metadata": {},
   "outputs": [],
   "source": [
    "sns.lineplot(data=df, x=\"Step\", y=\"16k-no-tr\")"
   ]
  },
  {
   "cell_type": "code",
   "execution_count": null,
   "id": "48ef915a",
   "metadata": {},
   "outputs": [],
   "source": [
    "dfm = df.melt('Step', var_name='cols', value_name='vals')"
   ]
  },
  {
   "cell_type": "code",
   "execution_count": null,
   "id": "20b846ae",
   "metadata": {},
   "outputs": [],
   "source": [
    "dfm"
   ]
  },
  {
   "cell_type": "code",
   "execution_count": null,
   "id": "cdb0e014",
   "metadata": {},
   "outputs": [],
   "source": [
    "keep = ['4k-no-tr','4k-no-v', '4k-yes-tr', '4k-yes-v']"
   ]
  },
  {
   "cell_type": "code",
   "execution_count": null,
   "id": "51701d97",
   "metadata": {},
   "outputs": [],
   "source": [
    "dfm_limit = dfm.drop(dfm[~dfm.cols.isin(keep)].index)"
   ]
  },
  {
   "cell_type": "code",
   "execution_count": null,
   "id": "8dfbf2ec",
   "metadata": {},
   "outputs": [],
   "source": [
    "plt.figure(figsize=(9,4))\n",
    "lineplotty = sns.lineplot(data=dfm_limit, x=\"Step\", y=\"vals\", hue = \"cols\")\n",
    "legend_handles, _ = lineplotty.get_legend_handles_labels()\n",
    "lineplotty.legend(legend_handles, ['Training (no curriculum)', \n",
    "                                   'Evaluation (no curriculum)',\n",
    "                                   'Training (curriculum)', \n",
    "                                   'Evaluation (curriculum)',],bbox_to_anchor=(1,1))\n",
    "lineplotty.set(ylabel='Loss')\n",
    "lineplotty.grid()\n",
    "lineplotty.set_ylim(4,6.55)"
   ]
  },
  {
   "cell_type": "code",
   "execution_count": null,
   "id": "6ad1cc18",
   "metadata": {},
   "outputs": [],
   "source": [
    "lineplotty.figure.savefig(\"plots/4-losses.pdf\", bbox_inches='tight')"
   ]
  },
  {
   "cell_type": "code",
   "execution_count": null,
   "id": "b521512b",
   "metadata": {},
   "outputs": [],
   "source": []
  }
 ],
 "metadata": {
  "kernelspec": {
   "display_name": "Python 3 (ipykernel)",
   "language": "python",
   "name": "python3"
  },
  "language_info": {
   "codemirror_mode": {
    "name": "ipython",
    "version": 3
   },
   "file_extension": ".py",
   "mimetype": "text/x-python",
   "name": "python",
   "nbconvert_exporter": "python",
   "pygments_lexer": "ipython3",
   "version": "3.10.8"
  }
 },
 "nbformat": 4,
 "nbformat_minor": 5
}
