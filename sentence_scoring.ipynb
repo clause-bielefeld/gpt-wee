{
 "cells": [
  {
   "cell_type": "markdown",
   "id": "04a3fc00",
   "metadata": {},
   "source": [
    "# Scoring of sentences for BabyLM challenge"
   ]
  },
  {
   "cell_type": "code",
   "execution_count": null,
   "id": "fcf48921",
   "metadata": {},
   "outputs": [],
   "source": [
    "import pandas as pd\n",
    "import numpy as np\n",
    "import string\n",
    "from collections import Counter\n",
    "import os\n",
    "import unicodedata"
   ]
  },
  {
   "cell_type": "markdown",
   "id": "c69761c6",
   "metadata": {},
   "source": [
    "Test set:"
   ]
  },
  {
   "cell_type": "code",
   "execution_count": null,
   "id": "61c35c30",
   "metadata": {},
   "outputs": [],
   "source": [
    "example_sentences = ['I like dogs .',\n",
    "                    'I like burgers .',\n",
    "                    'Why did you do that ?',\n",
    "                    'What did you do that for ?',\n",
    "                    'The bee stings .',\n",
    "                    'The bee stings me .',\n",
    "                    'Go to the toilet , please !',\n",
    "                    'The doggie is yellow .',\n",
    "                    'My chair is too big .',\n",
    "                    'Who is a big boy ?']"
   ]
  },
  {
   "cell_type": "code",
   "execution_count": null,
   "id": "f4f746fc",
   "metadata": {},
   "outputs": [],
   "source": [
    "filename = \"/path/to/babylm_data/babylm_10M/simple_wikipedia.train\"\n",
    "example_sentences = []\n",
    "with open(filename) as file:\n",
    "    example_sentences = [line.rstrip() for line in file]"
   ]
  },
  {
   "cell_type": "markdown",
   "id": "997e552c",
   "metadata": {},
   "source": [
    "### Clean-up test:\n",
    "\n",
    "Removes unnecessary control characters:"
   ]
  },
  {
   "cell_type": "code",
   "execution_count": null,
   "id": "75822ea9",
   "metadata": {},
   "outputs": [],
   "source": [
    "def remove_control_characters(s):\n",
    "    return \"\".join(ch for ch in s if unicodedata.category(ch)[0]!=\"C\")"
   ]
  },
  {
   "cell_type": "code",
   "execution_count": null,
   "id": "f76ed369",
   "metadata": {},
   "outputs": [],
   "source": [
    "example_sentences2 = []\n",
    "for sentence in example_sentences:\n",
    "    sentence = remove_control_characters(sentence)\n",
    "    example_sentences2.append(sentence)"
   ]
  },
  {
   "cell_type": "code",
   "execution_count": null,
   "id": "64585d05",
   "metadata": {},
   "outputs": [],
   "source": [
    "example_sentences2"
   ]
  },
  {
   "cell_type": "code",
   "execution_count": null,
   "id": "52d1095d",
   "metadata": {},
   "outputs": [],
   "source": [
    "example_sentences3 = []\n",
    "d = \".\"\n",
    "for line in example_sentences2:\n",
    "    s = [e+d for e in line.split(d) if e]\n",
    "    example_sentences3.append(s)"
   ]
  },
  {
   "cell_type": "code",
   "execution_count": null,
   "id": "829b4b40",
   "metadata": {},
   "outputs": [],
   "source": [
    "example_sentences3"
   ]
  },
  {
   "cell_type": "code",
   "execution_count": null,
   "id": "ecf965c2",
   "metadata": {},
   "outputs": [],
   "source": [
    "flat_list = [item for sublist in example_sentences3 for item in sublist]"
   ]
  },
  {
   "cell_type": "code",
   "execution_count": null,
   "id": "d861bcc3",
   "metadata": {},
   "outputs": [],
   "source": [
    "flat_list"
   ]
  },
  {
   "cell_type": "markdown",
   "id": "b50406da",
   "metadata": {},
   "source": [
    "## Scoring functions"
   ]
  },
  {
   "cell_type": "code",
   "execution_count": null,
   "id": "0c861aa0",
   "metadata": {},
   "outputs": [],
   "source": [
    "def remove_control_characters(s):\n",
    "    return \"\".join(ch for ch in s if unicodedata.category(ch)[0]!=\"C\")"
   ]
  },
  {
   "cell_type": "markdown",
   "id": "ca58fb14",
   "metadata": {},
   "source": [
    "### frame"
   ]
  },
  {
   "cell_type": "code",
   "execution_count": null,
   "id": "cf5ee972",
   "metadata": {},
   "outputs": [],
   "source": [
    "def get_frames(sentence_list):\n",
    "    frames = []\n",
    "    for sentence in sentence_list:\n",
    "        sentence = sentence.lower()\n",
    "        sentence = sentence.split()\n",
    "        sentence = ' '.join(sentence[0:3])\n",
    "        frames.append(sentence)\n",
    "    freq = Counter(frames).most_common()\n",
    "    return(dict(freq))"
   ]
  },
  {
   "cell_type": "code",
   "execution_count": null,
   "id": "795f0812",
   "metadata": {},
   "outputs": [],
   "source": [
    "frames = get_frames(example_sentences)"
   ]
  },
  {
   "cell_type": "code",
   "execution_count": null,
   "id": "8693bf6d",
   "metadata": {},
   "outputs": [],
   "source": [
    "def frame_freq(sentence, frame_dict):\n",
    "    sentence = sentence.lower()\n",
    "    sentence = sentence.split()\n",
    "    sentence = ' '.join(sentence[0:3])\n",
    "    return(frame_dict[sentence])"
   ]
  },
  {
   "cell_type": "code",
   "execution_count": null,
   "id": "1fe1dd39",
   "metadata": {},
   "outputs": [],
   "source": [
    "frame_freq(example_sentences[5], frames)"
   ]
  },
  {
   "cell_type": "markdown",
   "id": "3f2ea1aa",
   "metadata": {},
   "source": [
    "### utterance length"
   ]
  },
  {
   "cell_type": "code",
   "execution_count": null,
   "id": "385a3bd0",
   "metadata": {},
   "outputs": [],
   "source": [
    "def utterance_length(sentence):\n",
    "    sentence = sentence.translate(str.maketrans('', '', string.punctuation))\n",
    "    return(len(sentence.split()))"
   ]
  },
  {
   "cell_type": "code",
   "execution_count": null,
   "id": "71026497",
   "metadata": {},
   "outputs": [],
   "source": [
    "utterance_length(example_sentences[0])"
   ]
  },
  {
   "cell_type": "markdown",
   "id": "a8d395aa",
   "metadata": {},
   "source": [
    "### word length"
   ]
  },
  {
   "cell_type": "code",
   "execution_count": null,
   "id": "08befeb4",
   "metadata": {},
   "outputs": [],
   "source": [
    "def mean_word_length(sentence):\n",
    "    sentence = sentence.translate(str.maketrans('', '', string.punctuation))\n",
    "    split_sentence = sentence.split()\n",
    "    lengths = []\n",
    "    for word in split_sentence:\n",
    "        lengths.append(len(word))\n",
    "    return(np.mean(lengths))"
   ]
  },
  {
   "cell_type": "code",
   "execution_count": null,
   "id": "d8c21e7c",
   "metadata": {},
   "outputs": [],
   "source": [
    "mean_word_length(example_sentences[0])"
   ]
  },
  {
   "cell_type": "markdown",
   "id": "9ce51108",
   "metadata": {},
   "source": [
    "### word frequency"
   ]
  },
  {
   "cell_type": "code",
   "execution_count": null,
   "id": "63dca098",
   "metadata": {},
   "outputs": [],
   "source": [
    "def get_freqs(sentence_list):\n",
    "    all_texts = ''\n",
    "    for text in sentence_list:\n",
    "        text = text.translate(str.maketrans('', '', string.punctuation))\n",
    "        all_texts = all_texts + ' ' + text.lower()\n",
    "    token_frequencies = Counter(all_texts.split()).most_common()\n",
    "    token_frequencies = dict(token_frequencies)\n",
    "    return(token_frequencies)"
   ]
  },
  {
   "cell_type": "code",
   "execution_count": null,
   "id": "240790cb",
   "metadata": {},
   "outputs": [],
   "source": [
    "def average_freq(sentence, freq_dict):\n",
    "    sentence = sentence.lower()\n",
    "    sentence = sentence.translate(str.maketrans('', '', string.punctuation))\n",
    "    split_sentence = sentence.split()\n",
    "    word_frequencies = []\n",
    "    for word in split_sentence:\n",
    "        word_frequencies.append(freq_dict[word])\n",
    "    return(np.mean(word_frequencies))"
   ]
  },
  {
   "cell_type": "code",
   "execution_count": null,
   "id": "7e74e2aa",
   "metadata": {},
   "outputs": [],
   "source": [
    "freq_dict = get_freqs(example_sentences)"
   ]
  },
  {
   "cell_type": "code",
   "execution_count": null,
   "id": "4240abe9",
   "metadata": {},
   "outputs": [],
   "source": [
    "average_freq(example_sentences[4],freq_dict)"
   ]
  },
  {
   "cell_type": "markdown",
   "id": "8c9d39e8",
   "metadata": {},
   "source": [
    "# Full calculation and ranking:"
   ]
  },
  {
   "cell_type": "markdown",
   "id": "5426f4a1",
   "metadata": {},
   "source": [
    "Load data:"
   ]
  },
  {
   "cell_type": "code",
   "execution_count": null,
   "id": "7b3b7256",
   "metadata": {},
   "outputs": [],
   "source": [
    "file_list = []\n",
    "for dirpath, dirnames, filenames in os.walk('/path/to/babylm_data/babylm_10M/'):\n",
    "    for filename in [f for f in filenames if f.endswith(\".train\")]:\n",
    "        file_list.append(os.path.join(dirpath, filename))"
   ]
  },
  {
   "cell_type": "code",
   "execution_count": null,
   "id": "b863e967",
   "metadata": {},
   "outputs": [],
   "source": [
    "file_list"
   ]
  },
  {
   "cell_type": "markdown",
   "id": "f7c8072e",
   "metadata": {},
   "source": [
    "Load into flat list:"
   ]
  },
  {
   "cell_type": "code",
   "execution_count": null,
   "id": "53f10c31",
   "metadata": {},
   "outputs": [],
   "source": [
    "example_sentences = []\n",
    "for filename in file_list:\n",
    "    with open(filename) as file:\n",
    "        example_sentences = example_sentences + [line.rstrip() for line in file]\n",
    "example_sentences2 = []\n",
    "for sentence in example_sentences:\n",
    "    sentence = remove_control_characters(sentence)\n",
    "    example_sentences2.append(sentence)\n",
    "example_sentences3 = []\n",
    "d = \".\"\n",
    "for line in example_sentences2:\n",
    "    s = [e+d for e in line.split(d) if e]\n",
    "    example_sentences3.append(s)\n",
    "flat_list = [item for sublist in example_sentences3 for item in sublist]"
   ]
  },
  {
   "cell_type": "code",
   "execution_count": null,
   "id": "667b7bb2",
   "metadata": {},
   "outputs": [],
   "source": [
    "flat_list"
   ]
  },
  {
   "cell_type": "code",
   "execution_count": null,
   "id": "f4d99d90",
   "metadata": {},
   "outputs": [],
   "source": [
    "df = pd.DataFrame(flat_list, columns = ['sentence'])"
   ]
  },
  {
   "cell_type": "markdown",
   "id": "d08036fb",
   "metadata": {},
   "source": [
    "Calculate values:"
   ]
  },
  {
   "cell_type": "code",
   "execution_count": null,
   "id": "27296b58",
   "metadata": {},
   "outputs": [],
   "source": [
    "frames = get_frames(flat_list)\n",
    "freq_dict = get_freqs(flat_list)\n",
    "frame_freqs = []\n",
    "utt_lengths = []\n",
    "word_lengths = []\n",
    "word_freqs = []\n",
    "for sentence in flat_list:\n",
    "    frame_freqs.append(frame_freq(sentence,frames))\n",
    "    utt_lengths.append(utterance_length(sentence))\n",
    "    word_lengths.append(mean_word_length(sentence))\n",
    "    word_freqs.append(average_freq(sentence,freq_dict))"
   ]
  },
  {
   "cell_type": "markdown",
   "id": "b419683b",
   "metadata": {},
   "source": [
    "Add to data frame:"
   ]
  },
  {
   "cell_type": "code",
   "execution_count": null,
   "id": "c914a893",
   "metadata": {},
   "outputs": [],
   "source": [
    "df['frame freq'] = frame_freqs\n",
    "df['utterance length'] = utt_lengths\n",
    "df['mean word length'] = word_lengths\n",
    "df['mean word frequency'] = word_freqs"
   ]
  },
  {
   "cell_type": "code",
   "execution_count": null,
   "id": "80b5426f",
   "metadata": {},
   "outputs": [],
   "source": [
    "df"
   ]
  },
  {
   "cell_type": "code",
   "execution_count": null,
   "id": "bbfe2c4a",
   "metadata": {},
   "outputs": [],
   "source": [
    "df['mean word frequency'].std()"
   ]
  },
  {
   "cell_type": "code",
   "execution_count": null,
   "id": "79f1977e",
   "metadata": {},
   "outputs": [],
   "source": [
    "df.sort_values('frame freq')"
   ]
  },
  {
   "cell_type": "code",
   "execution_count": null,
   "id": "0384140b",
   "metadata": {},
   "outputs": [],
   "source": [
    "nozero = df[df['utterance length'] != 0].sort_values('frame freq')"
   ]
  },
  {
   "cell_type": "code",
   "execution_count": null,
   "id": "e0d439f2",
   "metadata": {},
   "outputs": [],
   "source": [
    "nozero['mean word length'].max()"
   ]
  },
  {
   "cell_type": "markdown",
   "id": "ceb3050c",
   "metadata": {},
   "source": [
    "Sort:"
   ]
  },
  {
   "cell_type": "code",
   "execution_count": null,
   "id": "1ba97fda",
   "metadata": {},
   "outputs": [],
   "source": [
    "df['frame rank'] = df['frame freq'].rank(ascending = False)\n",
    "df['utterance rank'] = df['utterance length'].rank(ascending = True)\n",
    "df['mean length rank'] = df['mean word length'].rank(ascending = True)\n",
    "df['mean freq rank'] = df['mean word frequency'].rank(ascending = False)"
   ]
  },
  {
   "cell_type": "code",
   "execution_count": null,
   "id": "0eb64727",
   "metadata": {},
   "outputs": [],
   "source": [
    "df['final rank'] = df['frame rank'] + df['utterance rank'] + df['mean length rank'] + df['mean freq rank']"
   ]
  },
  {
   "cell_type": "code",
   "execution_count": null,
   "id": "4b793759",
   "metadata": {},
   "outputs": [],
   "source": [
    "ordered_df = df.sort_values(by=['final rank'])"
   ]
  },
  {
   "cell_type": "code",
   "execution_count": null,
   "id": "4099e28e",
   "metadata": {},
   "outputs": [],
   "source": [
    "ordered_list = ordered_df['sentence'].to_list()"
   ]
  },
  {
   "cell_type": "markdown",
   "id": "05ed8efb",
   "metadata": {},
   "source": [
    "Export:"
   ]
  },
  {
   "cell_type": "code",
   "execution_count": null,
   "id": "12782ddc",
   "metadata": {},
   "outputs": [],
   "source": [
    "with open('ordered_text.txt', 'w') as fp:\n",
    "    for item in ordered_list:\n",
    "        # write each item on a new line\n",
    "        fp.write(\"%s\\n\" % item)"
   ]
  },
  {
   "cell_type": "code",
   "execution_count": null,
   "id": "1e5fed27",
   "metadata": {},
   "outputs": [],
   "source": []
  }
 ],
 "metadata": {
  "kernelspec": {
   "display_name": "Python 3 (ipykernel)",
   "language": "python",
   "name": "python3"
  },
  "language_info": {
   "codemirror_mode": {
    "name": "ipython",
    "version": 3
   },
   "file_extension": ".py",
   "mimetype": "text/x-python",
   "name": "python",
   "nbconvert_exporter": "python",
   "pygments_lexer": "ipython3",
   "version": "3.10.8"
  }
 },
 "nbformat": 4,
 "nbformat_minor": 5
}
